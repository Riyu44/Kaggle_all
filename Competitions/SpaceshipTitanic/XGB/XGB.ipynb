{
 "cells": [
  {
   "cell_type": "code",
   "execution_count": 1,
   "id": "132349f4",
   "metadata": {
    "_cell_guid": "b1076dfc-b9ad-4769-8c92-a6c4dae69d19",
    "_uuid": "8f2839f25d086af736a60e9eeb907d3b93b6e0e5",
    "execution": {
     "iopub.execute_input": "2025-06-04T06:23:15.589008Z",
     "iopub.status.busy": "2025-06-04T06:23:15.588615Z",
     "iopub.status.idle": "2025-06-04T06:23:17.452567Z",
     "shell.execute_reply": "2025-06-04T06:23:17.451616Z"
    },
    "papermill": {
     "duration": 1.870242,
     "end_time": "2025-06-04T06:23:17.453993",
     "exception": false,
     "start_time": "2025-06-04T06:23:15.583751",
     "status": "completed"
    },
    "tags": []
   },
   "outputs": [
    {
     "name": "stdout",
     "output_type": "stream",
     "text": [
      "/kaggle/input/spaceship-titanic/sample_submission.csv\n",
      "/kaggle/input/spaceship-titanic/train.csv\n",
      "/kaggle/input/spaceship-titanic/test.csv\n"
     ]
    }
   ],
   "source": [
    "# This Python 3 environment comes with many helpful analytics libraries installed\n",
    "# It is defined by the kaggle/python Docker image: https://github.com/kaggle/docker-python\n",
    "# For example, here's several helpful packages to load\n",
    "\n",
    "import numpy as np # linear algebra\n",
    "import pandas as pd # data processing, CSV file I/O (e.g. pd.read_csv)\n",
    "\n",
    "# Input data files are available in the read-only \"../input/\" directory\n",
    "# For example, running this (by clicking run or pressing Shift+Enter) will list all files under the input directory\n",
    "\n",
    "import os\n",
    "for dirname, _, filenames in os.walk('/kaggle/input'):\n",
    "    for filename in filenames:\n",
    "        print(os.path.join(dirname, filename))\n",
    "\n",
    "# You can write up to 20GB to the current directory (/kaggle/working/) that gets preserved as output when you create a version using \"Save & Run All\" \n",
    "# You can also write temporary files to /kaggle/temp/, but they won't be saved outside of the current session"
   ]
  },
  {
   "cell_type": "markdown",
   "id": "ac06bd0d",
   "metadata": {
    "papermill": {
     "duration": 0.002782,
     "end_time": "2025-06-04T06:23:17.460301",
     "exception": false,
     "start_time": "2025-06-04T06:23:17.457519",
     "status": "completed"
    },
    "tags": []
   },
   "source": [
    "## Loading Data"
   ]
  },
  {
   "cell_type": "code",
   "execution_count": 2,
   "id": "b80199e6",
   "metadata": {
    "execution": {
     "iopub.execute_input": "2025-06-04T06:23:17.467706Z",
     "iopub.status.busy": "2025-06-04T06:23:17.467042Z",
     "iopub.status.idle": "2025-06-04T06:23:19.095222Z",
     "shell.execute_reply": "2025-06-04T06:23:19.094245Z"
    },
    "papermill": {
     "duration": 1.633653,
     "end_time": "2025-06-04T06:23:19.097006",
     "exception": false,
     "start_time": "2025-06-04T06:23:17.463353",
     "status": "completed"
    },
    "tags": []
   },
   "outputs": [],
   "source": [
    "from sklearn.model_selection import train_test_split\n",
    "\n",
    "# Load data\n",
    "X_train_full = pd.read_csv('/kaggle/input/spaceship-titanic/train.csv')\n",
    "X_test_full = pd.read_csv('/kaggle/input/spaceship-titanic/test.csv')\n",
    "\n",
    "# # Check the Data load\n",
    "# print(X_train_full.shape)\n",
    "# X_test_full.shape\n",
    "\n",
    "# Remove rows with NULL target and separate target from the train dataset\n",
    "X_train_full.dropna(axis=0, subset=['Transported'], inplace=True)\n",
    "y = X_train_full.Transported\n",
    "X_train_full.drop(['Transported'], axis=1, inplace=True)\n",
    "\n",
    "# Break off validation set from training data\n",
    "X_train, X_valid, y_train, y_valid = train_test_split(X_train_full, y, train_size=0.8, test_size=0.2, random_state=0)\n",
    "\n",
    "# Select categorical columns with relatively low cardinality (convenient but arbitrary)\n",
    "categorical_cols = [cname for cname in X_train.columns if\n",
    "                    X_train[cname].nunique() < 10 and \n",
    "                    X_train[cname].dtype == \"object\"]\n",
    "\n",
    "# Select numerical columns\n",
    "numerical_cols = [cname for cname in X_train.columns if \n",
    "                X_train[cname].dtype in ['int64', 'float64']]\n",
    "\n",
    "# Keep selected columns only\n",
    "#print(categorical_cols)\n",
    "#print(numerical_cols)\n",
    "\n",
    "my_cols = categorical_cols + numerical_cols\n",
    "X_train_clean = X_train[my_cols].copy()\n",
    "X_valid_clean = X_valid[my_cols].copy()\n",
    "X_test_clean = X_test_full[my_cols].copy()\n",
    "\n",
    "X_train_clean[categorical_cols] = X_train_clean[categorical_cols].astype(str)\n",
    "X_valid_clean[categorical_cols] = X_valid_clean[categorical_cols].astype(str)\n",
    "X_test_clean[categorical_cols] = X_test_clean[categorical_cols].astype(str)"
   ]
  },
  {
   "cell_type": "code",
   "execution_count": 3,
   "id": "06afc5fb",
   "metadata": {
    "execution": {
     "iopub.execute_input": "2025-06-04T06:23:19.104213Z",
     "iopub.status.busy": "2025-06-04T06:23:19.103935Z",
     "iopub.status.idle": "2025-06-04T06:23:19.141713Z",
     "shell.execute_reply": "2025-06-04T06:23:19.140777Z"
    },
    "papermill": {
     "duration": 0.042981,
     "end_time": "2025-06-04T06:23:19.143166",
     "exception": false,
     "start_time": "2025-06-04T06:23:19.100185",
     "status": "completed"
    },
    "tags": []
   },
   "outputs": [
    {
     "data": {
      "text/html": [
       "<div>\n",
       "<style scoped>\n",
       "    .dataframe tbody tr th:only-of-type {\n",
       "        vertical-align: middle;\n",
       "    }\n",
       "\n",
       "    .dataframe tbody tr th {\n",
       "        vertical-align: top;\n",
       "    }\n",
       "\n",
       "    .dataframe thead th {\n",
       "        text-align: right;\n",
       "    }\n",
       "</style>\n",
       "<table border=\"1\" class=\"dataframe\">\n",
       "  <thead>\n",
       "    <tr style=\"text-align: right;\">\n",
       "      <th></th>\n",
       "      <th>Age</th>\n",
       "      <th>RoomService</th>\n",
       "      <th>FoodCourt</th>\n",
       "      <th>ShoppingMall</th>\n",
       "      <th>Spa</th>\n",
       "      <th>VRDeck</th>\n",
       "    </tr>\n",
       "  </thead>\n",
       "  <tbody>\n",
       "    <tr>\n",
       "      <th>count</th>\n",
       "      <td>6808.000000</td>\n",
       "      <td>6803.000000</td>\n",
       "      <td>6806.000000</td>\n",
       "      <td>6782.000000</td>\n",
       "      <td>6802.000000</td>\n",
       "      <td>6808.000000</td>\n",
       "    </tr>\n",
       "    <tr>\n",
       "      <th>mean</th>\n",
       "      <td>28.872944</td>\n",
       "      <td>232.871380</td>\n",
       "      <td>454.277255</td>\n",
       "      <td>179.915217</td>\n",
       "      <td>308.785798</td>\n",
       "      <td>302.280699</td>\n",
       "    </tr>\n",
       "    <tr>\n",
       "      <th>std</th>\n",
       "      <td>14.481302</td>\n",
       "      <td>691.501507</td>\n",
       "      <td>1587.206812</td>\n",
       "      <td>639.275102</td>\n",
       "      <td>1121.184428</td>\n",
       "      <td>1139.835194</td>\n",
       "    </tr>\n",
       "    <tr>\n",
       "      <th>min</th>\n",
       "      <td>0.000000</td>\n",
       "      <td>0.000000</td>\n",
       "      <td>0.000000</td>\n",
       "      <td>0.000000</td>\n",
       "      <td>0.000000</td>\n",
       "      <td>0.000000</td>\n",
       "    </tr>\n",
       "    <tr>\n",
       "      <th>25%</th>\n",
       "      <td>19.000000</td>\n",
       "      <td>0.000000</td>\n",
       "      <td>0.000000</td>\n",
       "      <td>0.000000</td>\n",
       "      <td>0.000000</td>\n",
       "      <td>0.000000</td>\n",
       "    </tr>\n",
       "    <tr>\n",
       "      <th>50%</th>\n",
       "      <td>27.000000</td>\n",
       "      <td>0.000000</td>\n",
       "      <td>0.000000</td>\n",
       "      <td>0.000000</td>\n",
       "      <td>0.000000</td>\n",
       "      <td>0.000000</td>\n",
       "    </tr>\n",
       "    <tr>\n",
       "      <th>75%</th>\n",
       "      <td>38.000000</td>\n",
       "      <td>54.000000</td>\n",
       "      <td>75.000000</td>\n",
       "      <td>28.000000</td>\n",
       "      <td>59.000000</td>\n",
       "      <td>46.000000</td>\n",
       "    </tr>\n",
       "    <tr>\n",
       "      <th>max</th>\n",
       "      <td>79.000000</td>\n",
       "      <td>14327.000000</td>\n",
       "      <td>27723.000000</td>\n",
       "      <td>23492.000000</td>\n",
       "      <td>18572.000000</td>\n",
       "      <td>24133.000000</td>\n",
       "    </tr>\n",
       "  </tbody>\n",
       "</table>\n",
       "</div>"
      ],
      "text/plain": [
       "               Age   RoomService     FoodCourt  ShoppingMall           Spa  \\\n",
       "count  6808.000000   6803.000000   6806.000000   6782.000000   6802.000000   \n",
       "mean     28.872944    232.871380    454.277255    179.915217    308.785798   \n",
       "std      14.481302    691.501507   1587.206812    639.275102   1121.184428   \n",
       "min       0.000000      0.000000      0.000000      0.000000      0.000000   \n",
       "25%      19.000000      0.000000      0.000000      0.000000      0.000000   \n",
       "50%      27.000000      0.000000      0.000000      0.000000      0.000000   \n",
       "75%      38.000000     54.000000     75.000000     28.000000     59.000000   \n",
       "max      79.000000  14327.000000  27723.000000  23492.000000  18572.000000   \n",
       "\n",
       "             VRDeck  \n",
       "count   6808.000000  \n",
       "mean     302.280699  \n",
       "std     1139.835194  \n",
       "min        0.000000  \n",
       "25%        0.000000  \n",
       "50%        0.000000  \n",
       "75%       46.000000  \n",
       "max    24133.000000  "
      ]
     },
     "execution_count": 3,
     "metadata": {},
     "output_type": "execute_result"
    }
   ],
   "source": [
    "X_train.describe()"
   ]
  },
  {
   "cell_type": "markdown",
   "id": "38cf0ddc",
   "metadata": {
    "execution": {
     "iopub.execute_input": "2025-06-03T06:40:09.706966Z",
     "iopub.status.busy": "2025-06-03T06:40:09.706305Z",
     "iopub.status.idle": "2025-06-03T06:40:09.712145Z",
     "shell.execute_reply": "2025-06-03T06:40:09.710830Z",
     "shell.execute_reply.started": "2025-06-03T06:40:09.706934Z"
    },
    "papermill": {
     "duration": 0.002931,
     "end_time": "2025-06-04T06:23:19.149459",
     "exception": false,
     "start_time": "2025-06-04T06:23:19.146528",
     "status": "completed"
    },
    "tags": []
   },
   "source": [
    "## Creating the Pipeline"
   ]
  },
  {
   "cell_type": "code",
   "execution_count": 4,
   "id": "85795903",
   "metadata": {
    "execution": {
     "iopub.execute_input": "2025-06-04T06:23:19.157123Z",
     "iopub.status.busy": "2025-06-04T06:23:19.156805Z",
     "iopub.status.idle": "2025-06-04T06:24:41.663437Z",
     "shell.execute_reply": "2025-06-04T06:24:41.662607Z"
    },
    "papermill": {
     "duration": 82.515688,
     "end_time": "2025-06-04T06:24:41.668333",
     "exception": false,
     "start_time": "2025-06-04T06:23:19.152645",
     "status": "completed"
    },
    "tags": []
   },
   "outputs": [
    {
     "name": "stdout",
     "output_type": "stream",
     "text": [
      "Fitting 3 folds for each of 108 candidates, totalling 324 fits\n",
      "Best Parameters: {'model__colsample_bytree': 0.8, 'model__learning_rate': 0.01, 'model__max_depth': 7, 'model__n_estimators': 250, 'model__subsample': 0.8}\n",
      "Best CV Score: 0.7995398331895313\n",
      "Accuracy: 0.7941345600920069\n",
      "MAE: 0.2058654399079931\n"
     ]
    }
   ],
   "source": [
    "from sklearn.compose import ColumnTransformer\n",
    "from sklearn.pipeline import Pipeline\n",
    "from sklearn.impute import SimpleImputer\n",
    "from sklearn.preprocessing import OneHotEncoder\n",
    "from sklearn.metrics import mean_absolute_error, accuracy_score\n",
    "from xgboost import XGBClassifier\n",
    "from sklearn.model_selection import GridSearchCV\n",
    "\n",
    "# Define your numerical and categorical columns\n",
    "# Example:\n",
    "# numerical_cols = ['age', 'income']\n",
    "# categorical_cols = ['gender', 'city']\n",
    "\n",
    "# Preprocessing for numerical data\n",
    "numerical_transformer = SimpleImputer(strategy='mean')\n",
    "\n",
    "# Preprocessing for categorical data\n",
    "categorical_transformer = Pipeline(steps=[\n",
    "    ('imputer', SimpleImputer(strategy='constant', fill_value='missing')),\n",
    "    ('onehot', OneHotEncoder(handle_unknown='ignore'))\n",
    "])\n",
    "\n",
    "# Bundle preprocessing for numerical and categorical data\n",
    "preprocessor = ColumnTransformer(\n",
    "    transformers=[\n",
    "        ('num', numerical_transformer, numerical_cols),\n",
    "        ('cat', categorical_transformer, categorical_cols)\n",
    "    ])\n",
    "\n",
    "# Define model\n",
    "xgb = XGBClassifier(use_label_encoder=False, eval_metric='mlogloss', random_state=0)\n",
    "\n",
    "# Define pipeline\n",
    "pipeline = Pipeline(steps=[\n",
    "    ('preprocessor', preprocessor),\n",
    "    ('model', xgb)\n",
    "])\n",
    "\n",
    "# Define parameter grid (note: prefix with 'model__')\n",
    "param_grid = {\n",
    "    'model__n_estimators': [100, 250, 500],\n",
    "    'model__max_depth': [5, 7, 10],\n",
    "    'model__learning_rate': [0.01, 0.1, 0.2],\n",
    "    'model__subsample': [0.8, 1],\n",
    "    'model__colsample_bytree': [0.8, 1]\n",
    "}\n",
    "\n",
    "# Grid search with cross-validation\n",
    "grid_search = GridSearchCV(estimator=pipeline, param_grid=param_grid,\n",
    "                           cv=3, scoring='accuracy', verbose=1, n_jobs=-1)\n",
    "\n",
    "# Fit the model\n",
    "grid_search.fit(X_train_clean, y_train)\n",
    "\n",
    "# Best parameters and score\n",
    "print(\"Best Parameters:\", grid_search.best_params_)\n",
    "print(\"Best CV Score:\", grid_search.best_score_)\n",
    "\n",
    "# Predict using best model\n",
    "best_model = grid_search.best_estimator_\n",
    "preds = best_model.predict(X_valid_clean)\n",
    "\n",
    "# Evaluate\n",
    "print(\"Accuracy:\", accuracy_score(y_valid, preds))\n",
    "print(\"MAE:\", mean_absolute_error(y_valid, preds))\n"
   ]
  },
  {
   "cell_type": "markdown",
   "id": "9c1e73b2",
   "metadata": {
    "papermill": {
     "duration": 0.003182,
     "end_time": "2025-06-04T06:24:41.675598",
     "exception": false,
     "start_time": "2025-06-04T06:24:41.672416",
     "status": "completed"
    },
    "tags": []
   },
   "source": [
    "## Create Submission"
   ]
  },
  {
   "cell_type": "code",
   "execution_count": 5,
   "id": "4ac9ba41",
   "metadata": {
    "execution": {
     "iopub.execute_input": "2025-06-04T06:24:41.683626Z",
     "iopub.status.busy": "2025-06-04T06:24:41.682958Z",
     "iopub.status.idle": "2025-06-04T06:24:41.724224Z",
     "shell.execute_reply": "2025-06-04T06:24:41.723504Z"
    },
    "papermill": {
     "duration": 0.047398,
     "end_time": "2025-06-04T06:24:41.726103",
     "exception": false,
     "start_time": "2025-06-04T06:24:41.678705",
     "status": "completed"
    },
    "tags": []
   },
   "outputs": [],
   "source": [
    "preds = grid_search.predict(X_test_clean).astype(bool)\n",
    "output = pd.DataFrame({'PassengerId': X_test_full.PassengerId,\n",
    "                       'Transported': preds})\n",
    "output.to_csv('submission.csv', index=False)"
   ]
  },
  {
   "cell_type": "code",
   "execution_count": 6,
   "id": "fcf0839f",
   "metadata": {
    "execution": {
     "iopub.execute_input": "2025-06-04T06:24:41.734450Z",
     "iopub.status.busy": "2025-06-04T06:24:41.734130Z",
     "iopub.status.idle": "2025-06-04T06:24:41.760010Z",
     "shell.execute_reply": "2025-06-04T06:24:41.759206Z"
    },
    "papermill": {
     "duration": 0.031743,
     "end_time": "2025-06-04T06:24:41.761658",
     "exception": false,
     "start_time": "2025-06-04T06:24:41.729915",
     "status": "completed"
    },
    "tags": []
   },
   "outputs": [],
   "source": [
    "sample_sub = pd.read_csv('/kaggle/input/spaceship-titanic/sample_submission.csv')\n",
    "sub = pd.read_csv('submission.csv')"
   ]
  },
  {
   "cell_type": "code",
   "execution_count": 7,
   "id": "01c7f9f4",
   "metadata": {
    "execution": {
     "iopub.execute_input": "2025-06-04T06:24:41.769422Z",
     "iopub.status.busy": "2025-06-04T06:24:41.769135Z",
     "iopub.status.idle": "2025-06-04T06:24:41.780086Z",
     "shell.execute_reply": "2025-06-04T06:24:41.779330Z"
    },
    "papermill": {
     "duration": 0.016287,
     "end_time": "2025-06-04T06:24:41.781364",
     "exception": false,
     "start_time": "2025-06-04T06:24:41.765077",
     "status": "completed"
    },
    "tags": []
   },
   "outputs": [
    {
     "data": {
      "text/html": [
       "<div>\n",
       "<style scoped>\n",
       "    .dataframe tbody tr th:only-of-type {\n",
       "        vertical-align: middle;\n",
       "    }\n",
       "\n",
       "    .dataframe tbody tr th {\n",
       "        vertical-align: top;\n",
       "    }\n",
       "\n",
       "    .dataframe thead th {\n",
       "        text-align: right;\n",
       "    }\n",
       "</style>\n",
       "<table border=\"1\" class=\"dataframe\">\n",
       "  <thead>\n",
       "    <tr style=\"text-align: right;\">\n",
       "      <th></th>\n",
       "      <th>PassengerId</th>\n",
       "      <th>Transported</th>\n",
       "    </tr>\n",
       "  </thead>\n",
       "  <tbody>\n",
       "    <tr>\n",
       "      <th>0</th>\n",
       "      <td>0013_01</td>\n",
       "      <td>False</td>\n",
       "    </tr>\n",
       "    <tr>\n",
       "      <th>1</th>\n",
       "      <td>0018_01</td>\n",
       "      <td>False</td>\n",
       "    </tr>\n",
       "    <tr>\n",
       "      <th>2</th>\n",
       "      <td>0019_01</td>\n",
       "      <td>False</td>\n",
       "    </tr>\n",
       "    <tr>\n",
       "      <th>3</th>\n",
       "      <td>0021_01</td>\n",
       "      <td>False</td>\n",
       "    </tr>\n",
       "    <tr>\n",
       "      <th>4</th>\n",
       "      <td>0023_01</td>\n",
       "      <td>False</td>\n",
       "    </tr>\n",
       "    <tr>\n",
       "      <th>...</th>\n",
       "      <td>...</td>\n",
       "      <td>...</td>\n",
       "    </tr>\n",
       "    <tr>\n",
       "      <th>4272</th>\n",
       "      <td>9266_02</td>\n",
       "      <td>False</td>\n",
       "    </tr>\n",
       "    <tr>\n",
       "      <th>4273</th>\n",
       "      <td>9269_01</td>\n",
       "      <td>False</td>\n",
       "    </tr>\n",
       "    <tr>\n",
       "      <th>4274</th>\n",
       "      <td>9271_01</td>\n",
       "      <td>False</td>\n",
       "    </tr>\n",
       "    <tr>\n",
       "      <th>4275</th>\n",
       "      <td>9273_01</td>\n",
       "      <td>False</td>\n",
       "    </tr>\n",
       "    <tr>\n",
       "      <th>4276</th>\n",
       "      <td>9277_01</td>\n",
       "      <td>False</td>\n",
       "    </tr>\n",
       "  </tbody>\n",
       "</table>\n",
       "<p>4277 rows × 2 columns</p>\n",
       "</div>"
      ],
      "text/plain": [
       "     PassengerId  Transported\n",
       "0        0013_01        False\n",
       "1        0018_01        False\n",
       "2        0019_01        False\n",
       "3        0021_01        False\n",
       "4        0023_01        False\n",
       "...          ...          ...\n",
       "4272     9266_02        False\n",
       "4273     9269_01        False\n",
       "4274     9271_01        False\n",
       "4275     9273_01        False\n",
       "4276     9277_01        False\n",
       "\n",
       "[4277 rows x 2 columns]"
      ]
     },
     "execution_count": 7,
     "metadata": {},
     "output_type": "execute_result"
    }
   ],
   "source": [
    "sample_sub"
   ]
  },
  {
   "cell_type": "code",
   "execution_count": 8,
   "id": "078d0eb8",
   "metadata": {
    "execution": {
     "iopub.execute_input": "2025-06-04T06:24:41.789836Z",
     "iopub.status.busy": "2025-06-04T06:24:41.789221Z",
     "iopub.status.idle": "2025-06-04T06:24:41.799231Z",
     "shell.execute_reply": "2025-06-04T06:24:41.798348Z"
    },
    "papermill": {
     "duration": 0.015839,
     "end_time": "2025-06-04T06:24:41.800727",
     "exception": false,
     "start_time": "2025-06-04T06:24:41.784888",
     "status": "completed"
    },
    "tags": []
   },
   "outputs": [
    {
     "data": {
      "text/html": [
       "<div>\n",
       "<style scoped>\n",
       "    .dataframe tbody tr th:only-of-type {\n",
       "        vertical-align: middle;\n",
       "    }\n",
       "\n",
       "    .dataframe tbody tr th {\n",
       "        vertical-align: top;\n",
       "    }\n",
       "\n",
       "    .dataframe thead th {\n",
       "        text-align: right;\n",
       "    }\n",
       "</style>\n",
       "<table border=\"1\" class=\"dataframe\">\n",
       "  <thead>\n",
       "    <tr style=\"text-align: right;\">\n",
       "      <th></th>\n",
       "      <th>PassengerId</th>\n",
       "      <th>Transported</th>\n",
       "    </tr>\n",
       "  </thead>\n",
       "  <tbody>\n",
       "    <tr>\n",
       "      <th>0</th>\n",
       "      <td>0013_01</td>\n",
       "      <td>True</td>\n",
       "    </tr>\n",
       "    <tr>\n",
       "      <th>1</th>\n",
       "      <td>0018_01</td>\n",
       "      <td>False</td>\n",
       "    </tr>\n",
       "    <tr>\n",
       "      <th>2</th>\n",
       "      <td>0019_01</td>\n",
       "      <td>True</td>\n",
       "    </tr>\n",
       "    <tr>\n",
       "      <th>3</th>\n",
       "      <td>0021_01</td>\n",
       "      <td>True</td>\n",
       "    </tr>\n",
       "    <tr>\n",
       "      <th>4</th>\n",
       "      <td>0023_01</td>\n",
       "      <td>True</td>\n",
       "    </tr>\n",
       "    <tr>\n",
       "      <th>...</th>\n",
       "      <td>...</td>\n",
       "      <td>...</td>\n",
       "    </tr>\n",
       "    <tr>\n",
       "      <th>4272</th>\n",
       "      <td>9266_02</td>\n",
       "      <td>True</td>\n",
       "    </tr>\n",
       "    <tr>\n",
       "      <th>4273</th>\n",
       "      <td>9269_01</td>\n",
       "      <td>False</td>\n",
       "    </tr>\n",
       "    <tr>\n",
       "      <th>4274</th>\n",
       "      <td>9271_01</td>\n",
       "      <td>True</td>\n",
       "    </tr>\n",
       "    <tr>\n",
       "      <th>4275</th>\n",
       "      <td>9273_01</td>\n",
       "      <td>True</td>\n",
       "    </tr>\n",
       "    <tr>\n",
       "      <th>4276</th>\n",
       "      <td>9277_01</td>\n",
       "      <td>True</td>\n",
       "    </tr>\n",
       "  </tbody>\n",
       "</table>\n",
       "<p>4277 rows × 2 columns</p>\n",
       "</div>"
      ],
      "text/plain": [
       "     PassengerId  Transported\n",
       "0        0013_01         True\n",
       "1        0018_01        False\n",
       "2        0019_01         True\n",
       "3        0021_01         True\n",
       "4        0023_01         True\n",
       "...          ...          ...\n",
       "4272     9266_02         True\n",
       "4273     9269_01        False\n",
       "4274     9271_01         True\n",
       "4275     9273_01         True\n",
       "4276     9277_01         True\n",
       "\n",
       "[4277 rows x 2 columns]"
      ]
     },
     "execution_count": 8,
     "metadata": {},
     "output_type": "execute_result"
    }
   ],
   "source": [
    "sub"
   ]
  },
  {
   "cell_type": "code",
   "execution_count": 9,
   "id": "4ba3ff64",
   "metadata": {
    "execution": {
     "iopub.execute_input": "2025-06-04T06:24:41.809594Z",
     "iopub.status.busy": "2025-06-04T06:24:41.808724Z",
     "iopub.status.idle": "2025-06-04T06:24:41.814011Z",
     "shell.execute_reply": "2025-06-04T06:24:41.813137Z"
    },
    "papermill": {
     "duration": 0.011162,
     "end_time": "2025-06-04T06:24:41.815483",
     "exception": false,
     "start_time": "2025-06-04T06:24:41.804321",
     "status": "completed"
    },
    "tags": []
   },
   "outputs": [],
   "source": [
    "# from sklearn.compose import ColumnTransformer\n",
    "# from sklearn.pipeline import Pipeline\n",
    "# from sklearn.impute import SimpleImputer\n",
    "# from sklearn.preprocessing import OneHotEncoder\n",
    "# from sklearn.metrics import mean_absolute_error\n",
    "# from xgboost import XGBClassifier\n",
    "# from sklearn.model_selection import GridSearchCV\n",
    "# from sklearn.metrics import accuracy_score\n",
    "\n",
    "# # Preprocessing for numerical data\n",
    "# numerical_transformer = SimpleImputer(strategy='mean')\n",
    "\n",
    "# # Preprocessing for categorical data\n",
    "# categorical_transformer = Pipeline(steps=[\n",
    "#     ('imputer', SimpleImputer(strategy='constant')),\n",
    "#     ('onehot', OneHotEncoder(handle_unknown='ignore'))\n",
    "# ])\n",
    "\n",
    "# # Bundle preprocessing for numerical and categorical data\n",
    "# preprocessor = ColumnTransformer(\n",
    "#     transformers=[\n",
    "#         ('num', numerical_transformer, numerical_cols),\n",
    "#         ('cat', categorical_transformer, categorical_cols)\n",
    "#     ])\n",
    "\n",
    "# # Define model\n",
    "# xgb = XGBClassifier(use_label_encoder=False, eval_metric='mlogloss', random_state=0)\n",
    "\n",
    "# #Define pipeline\n",
    "# pipeline = Pipeline(steps=[('preprocessor', preprocessor),\n",
    "#                       ('model', xgb)])\n",
    "\n",
    "# # Define parameter grid\n",
    "# param_grid = {\n",
    "#     'n_estimators': [100, 250, 500],\n",
    "#     'max_depth': [5, 7, 10],\n",
    "#     'learning_rate': [0.01, 0.1, 0.2],\n",
    "#     'subsample': [0.8, 1],\n",
    "#     'colsample_bytree': [0.8, 1]\n",
    "# }\n",
    "\n",
    "# # Grid search with cross-validation\n",
    "# grid_search = GridSearchCV(estimator=pipeline, param_grid=param_grid,\n",
    "#                            cv=3, scoring='accuracy', verbose=1, n_jobs=-1)\n",
    "# # Fit the model\n",
    "# grid_search.fit(X_train, y_train)\n",
    "\n",
    "# # Best parameters and score\n",
    "# print(\"Best Parameters:\", grid_search.best_params_)\n",
    "# print(\"Best CV Score:\", grid_search.best_score_)\n",
    "\n",
    "# # Evaluate on test data\n",
    "# best_model = grid_search.best_estimator_\n",
    "\n",
    "# # Bundle preprocessing and modeling code in a pipeline\n",
    "# clf = Pipeline(steps=[('preprocessor', preprocessor),\n",
    "#                       ('model', model)\n",
    "#                      ])\n",
    "\n",
    "# # Preprocessing of training data, fit model \n",
    "# clf.fit(X_train, y_train)\n",
    "\n",
    "# # Preprocessing of validation data, get predictions\n",
    "# preds = clf.predict(X_valid)\n",
    "\n",
    "# print('MAE:', mean_absolute_error(y_valid, preds))"
   ]
  },
  {
   "cell_type": "code",
   "execution_count": 10,
   "id": "71e79d31",
   "metadata": {
    "execution": {
     "iopub.execute_input": "2025-06-04T06:24:41.824064Z",
     "iopub.status.busy": "2025-06-04T06:24:41.823799Z",
     "iopub.status.idle": "2025-06-04T06:24:41.828081Z",
     "shell.execute_reply": "2025-06-04T06:24:41.827284Z"
    },
    "papermill": {
     "duration": 0.010241,
     "end_time": "2025-06-04T06:24:41.829519",
     "exception": false,
     "start_time": "2025-06-04T06:24:41.819278",
     "status": "completed"
    },
    "tags": []
   },
   "outputs": [],
   "source": [
    "\n",
    "# # Define model\n",
    "# xgb = XGBClassifier(use_label_encoder=False, eval_metric='mlogloss', random_state=42)\n",
    "\n",
    "# # Define parameter grid\n",
    "# param_grid = {\n",
    "#     'n_estimators': [50, 100],\n",
    "#     'max_depth': [3, 5, 7],\n",
    "#     'learning_rate': [0.01, 0.1, 0.2],\n",
    "#     'subsample': [0.8, 1],\n",
    "#     'colsample_bytree': [0.8, 1]\n",
    "# }\n",
    "\n",
    "# # Grid search with cross-validation\n",
    "# grid_search = GridSearchCV(estimator=xgb, param_grid=param_grid,\n",
    "#                            cv=3, scoring='accuracy', verbose=1, n_jobs=-1)\n",
    "\n",
    "# # Fit the model\n",
    "# grid_search.fit(X_train, y_train)\n",
    "\n",
    "# # Best parameters and score\n",
    "# print(\"Best Parameters:\", grid_search.best_params_)\n",
    "# print(\"Best CV Score:\", grid_search.best_score_)\n",
    "\n",
    "# # Evaluate on test data\n",
    "# best_model = grid_search.best_estimator_\n",
    "# y_pred = best_model.predict(X_test)\n",
    "# print(\"Test Accuracy:\", accuracy_score(y_test, y_pred))\n"
   ]
  }
 ],
 "metadata": {
  "kaggle": {
   "accelerator": "none",
   "dataSources": [
    {
     "databundleVersionId": 3220602,
     "sourceId": 34377,
     "sourceType": "competition"
    }
   ],
   "dockerImageVersionId": 31040,
   "isGpuEnabled": false,
   "isInternetEnabled": true,
   "language": "python",
   "sourceType": "notebook"
  },
  "kernelspec": {
   "display_name": "Python 3",
   "language": "python",
   "name": "python3"
  },
  "language_info": {
   "codemirror_mode": {
    "name": "ipython",
    "version": 3
   },
   "file_extension": ".py",
   "mimetype": "text/x-python",
   "name": "python",
   "nbconvert_exporter": "python",
   "pygments_lexer": "ipython3",
   "version": "3.11.11"
  },
  "papermill": {
   "default_parameters": {},
   "duration": 93.608446,
   "end_time": "2025-06-04T06:24:44.453176",
   "environment_variables": {},
   "exception": null,
   "input_path": "__notebook__.ipynb",
   "output_path": "__notebook__.ipynb",
   "parameters": {},
   "start_time": "2025-06-04T06:23:10.844730",
   "version": "2.6.0"
  }
 },
 "nbformat": 4,
 "nbformat_minor": 5
}
